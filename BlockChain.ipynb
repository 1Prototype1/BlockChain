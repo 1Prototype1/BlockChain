{
 "cells": [
  {
   "cell_type": "code",
   "execution_count": 1,
   "metadata": {
    "colab": {},
    "colab_type": "code",
    "id": "-Af2x3GK-tzA"
   },
   "outputs": [],
   "source": [
    "block_one_transactions = {\"sender\":\"Alice\", \"receiver\": \"Bob\", \"amount\":\"50\"}\n",
    "block_two_transactions = {\"sender\": \"Bob\", \"receiver\":\"Cole\", \"amount\":\"25\"}\n",
    "block_three_transactions = {\"sender\":\"Alice\", \"receiver\":\"Cole\", \"amount\":\"35\"}\n",
    "fake_transactions = {\"sender\": \"Bob\", \"receiver\":\"Cole, Alice\", \"amount\":\"25\"}"
   ]
  },
  {
   "cell_type": "code",
   "execution_count": 2,
   "metadata": {
    "colab": {
     "base_uri": "https://localhost:8080/",
     "height": 107
    },
    "colab_type": "code",
    "id": "5cr61toHAvNF",
    "outputId": "c3fbed93-d7b0-4d2c-9d8b-4c321e2fc24f"
   },
   "outputs": [
    {
     "name": "stdout",
     "output_type": "stream",
     "text": [
      "Block 0 <block.Block object at 0x00000138576FD448>\n",
      "timestamp: 2020-07-02 11:42:12.560451\n",
      "transactions: {}\n",
      "current hash: 80ab40da48bbe3d743105518c6b5e4d4fbe3670a7292f7ca293323d69ea7863a\n",
      "previous hash: 0\n"
     ]
    }
   ],
   "source": [
    "from blockchain import Blockchain\n",
    "\n",
    "local_blockchain = Blockchain()\n",
    "local_blockchain.print_blocks()"
   ]
  },
  {
   "cell_type": "code",
   "execution_count": 3,
   "metadata": {
    "colab": {
     "base_uri": "https://localhost:8080/",
     "height": 431
    },
    "colab_type": "code",
    "id": "RFqGFqTdA9so",
    "outputId": "c6afc0a1-95b2-4c29-a45b-7082490da448"
   },
   "outputs": [
    {
     "name": "stdout",
     "output_type": "stream",
     "text": [
      "86357 0000079f9d9d15f6b41a2c8ac4dfcdf5baf6c20dc66f0366c79c84d2d86788c7\n",
      "25241 000071ed1e303ad31e9017be980e7cfa1f5f0c5b6e9bce422c6a803d5c41f4dc\n",
      "87615 000045fe21973ac2c42b0a390b3bfeb1cffb335a71655b799f00707761baade1\n",
      "Block 0 <block.Block object at 0x00000138576FD448>\n",
      "timestamp: 2020-07-02 11:42:12.560451\n",
      "transactions: {}\n",
      "current hash: 80ab40da48bbe3d743105518c6b5e4d4fbe3670a7292f7ca293323d69ea7863a\n",
      "previous hash: 0\n",
      "Block 1 <block.Block object at 0x000001385770D888>\n",
      "timestamp: 2020-07-02 11:42:12.973233\n",
      "transactions: {'sender': 'Alice', 'receiver': 'Bob', 'amount': '50'}\n",
      "current hash: a773fa8994b4bc1d4b606057163b285c350d9908b2d530922f5685734688646e\n",
      "previous hash: 80ab40da48bbe3d743105518c6b5e4d4fbe3670a7292f7ca293323d69ea7863a\n",
      "Block 2 <block.Block object at 0x000001385770D848>\n",
      "timestamp: 2020-07-02 11:42:13.327262\n",
      "transactions: {'sender': 'Bob', 'receiver': 'Cole', 'amount': '25'}\n",
      "current hash: 00af9b49480300e8850784f90024f102050dae8f23a33ffdfbee22997e6b9479\n",
      "previous hash: a773fa8994b4bc1d4b606057163b285c350d9908b2d530922f5685734688646e\n",
      "Block 3 <block.Block object at 0x000001385770D908>\n",
      "timestamp: 2020-07-02 11:42:13.427996\n",
      "transactions: {'sender': 'Alice', 'receiver': 'Cole', 'amount': '35'}\n",
      "current hash: 515ddaa63b129f2570fb0f8736e9d94b90399cc375e4af0ce4d9f57d3cb1285d\n",
      "previous hash: 00af9b49480300e8850784f90024f102050dae8f23a33ffdfbee22997e6b9479\n"
     ]
    }
   ],
   "source": [
    "local_blockchain.add_block(block_one_transactions)\n",
    "local_blockchain.add_block(block_two_transactions)\n",
    "local_blockchain.add_block(block_three_transactions)\n",
    "\n",
    "local_blockchain.print_blocks()"
   ]
  },
  {
   "cell_type": "code",
   "execution_count": 4,
   "metadata": {
    "colab": {
     "base_uri": "https://localhost:8080/",
     "height": 35
    },
    "colab_type": "code",
    "id": "V6wR1NQ2CaML",
    "outputId": "09e14464-b6d7-4618-bb7c-60dbe8061e4a"
   },
   "outputs": [
    {
     "data": {
      "text/plain": [
       "True"
      ]
     },
     "execution_count": 4,
     "metadata": {},
     "output_type": "execute_result"
    }
   ],
   "source": [
    "local_blockchain.validate_chain()"
   ]
  },
  {
   "cell_type": "code",
   "execution_count": 5,
   "metadata": {
    "colab": {
     "base_uri": "https://localhost:8080/",
     "height": 413
    },
    "colab_type": "code",
    "id": "3BppWalMBDzv",
    "outputId": "cdb245b8-97be-46bf-c318-cda31597bf42"
   },
   "outputs": [
    {
     "name": "stdout",
     "output_type": "stream",
     "text": [
      "Block 0 <block.Block object at 0x00000171CF0D57C8>\n",
      "timestamp: 2020-07-02 11:41:12.590021\n",
      "transactions: {}\n",
      "current hash: 5344af0a741a6d0adf73b50550f39b4b374852e25b8a924bfe857dae454f3f72\n",
      "previous hash: 0\n",
      "Block 1 <block.Block object at 0x00000171CF0D8CC8>\n",
      "timestamp: 2020-07-02 11:41:12.720076\n",
      "transactions: {'sender': 'Alice', 'receiver': 'Bob', 'amount': '50'}\n",
      "current hash: 5bbcd455f7274518f346e1b179d12b3988a355eb69b5a7822cc4e173a3f0e203\n",
      "previous hash: 5344af0a741a6d0adf73b50550f39b4b374852e25b8a924bfe857dae454f3f72\n",
      "Block 2 <block.Block object at 0x00000171CF0D8C88>\n",
      "timestamp: 2020-07-02 11:41:15.452787\n",
      "transactions: {'sender': 'Bob', 'receiver': 'Cole, Alice', 'amount': '25'}\n",
      "current hash: 40a3ca96bb807e84e8f23afaaecfbb14c30f928e4d9fdb1e16ca13922daa6692\n",
      "previous hash: 5bbcd455f7274518f346e1b179d12b3988a355eb69b5a7822cc4e173a3f0e203\n",
      "Block 3 <block.Block object at 0x00000171CF0D8D88>\n",
      "timestamp: 2020-07-02 11:41:16.745531\n",
      "transactions: {'sender': 'Alice', 'receiver': 'Cole', 'amount': '35'}\n",
      "current hash: 13f6a885cf9a112c77cbf50966c83abc232e43d4ab9340d3112c58d47d96a6b6\n",
      "previous hash: 5ec2621b33bdc829773c5b260e4943e577e7e74a5b16d6e3dda843413a014e7a\n",
      "The current hash of the block does not equal the generated hash of the block.\n"
     ]
    },
    {
     "data": {
      "text/plain": [
       "False"
      ]
     },
     "execution_count": 5,
     "metadata": {},
     "output_type": "execute_result"
    }
   ],
   "source": [
    "local_blockchain.chain[2].transactions = fake_transactions\n",
    "local_blockchain.print_blocks()\n",
    "local_blockchain.validate_chain()"
   ]
  },
  {
   "cell_type": "code",
   "execution_count": null,
   "metadata": {},
   "outputs": [],
   "source": []
  }
 ],
 "metadata": {
  "colab": {
   "collapsed_sections": [],
   "name": "BlockChain.ipynb",
   "provenance": [],
   "toc_visible": true
  },
  "kernelspec": {
   "display_name": "Python 3",
   "language": "python",
   "name": "python3"
  },
  "language_info": {
   "codemirror_mode": {
    "name": "ipython",
    "version": 3
   },
   "file_extension": ".py",
   "mimetype": "text/x-python",
   "name": "python",
   "nbconvert_exporter": "python",
   "pygments_lexer": "ipython3",
   "version": "3.7.4"
  }
 },
 "nbformat": 4,
 "nbformat_minor": 4
}
