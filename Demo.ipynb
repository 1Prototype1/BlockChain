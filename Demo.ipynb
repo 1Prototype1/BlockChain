{
  "nbformat": 4,
  "nbformat_minor": 0,
  "metadata": {
    "colab": {
      "name": "BlockChain.ipynb",
      "provenance": [],
      "collapsed_sections": [],
      "toc_visible": true
    },
    "kernelspec": {
      "name": "python3",
      "display_name": "Python 3"
    }
  },
  "cells": [
    {
      "cell_type": "code",
      "metadata": {
        "id": "-Af2x3GK-tzA",
        "colab_type": "code",
        "colab": {}
      },
      "source": [
        "block_one_transactions = {\"sender\":\"Alice\", \"receiver\": \"Bob\", \"amount\":\"50\"}\n",
        "block_two_transactions = {\"sender\": \"Bob\", \"receiver\":\"Cole\", \"amount\":\"25\"}\n",
        "block_three_transactions = {\"sender\":\"Alice\", \"receiver\":\"Cole\", \"amount\":\"35\"}\n",
        "fake_transactions = {\"sender\": \"Bob\", \"receiver\":\"Cole, Alice\", \"amount\":\"25\"}"
      ],
      "execution_count": 1,
      "outputs": []
    },
    {
      "cell_type": "code",
      "metadata": {
        "id": "5cr61toHAvNF",
        "colab_type": "code",
        "colab": {
          "base_uri": "https://localhost:8080/",
          "height": 125
        },
        "outputId": "a248ae71-b47f-4407-ef2a-d52ad5d0deba"
      },
      "source": [
        "from blockchain import Blockchain\n",
        "\n",
        "local_blockchain = Blockchain()\n",
        "local_blockchain.print_blocks()"
      ],
      "execution_count": 2,
      "outputs": [
        {
          "output_type": "stream",
          "text": [
            "Block 0 <block.Block object at 0x7faa69abde10>\n",
            "timestamp: 2020-07-02 06:23:27.435826\n",
            "transactions: {}\n",
            "current hash: 1a8338385c5dd08c38f99cce3598f91418c7128d807173361e4f5f49a68dcc56\n",
            "previous hash: 0\n",
            "\n"
          ],
          "name": "stdout"
        }
      ]
    },
    {
      "cell_type": "code",
      "metadata": {
        "id": "RFqGFqTdA9so",
        "colab_type": "code",
        "colab": {
          "base_uri": "https://localhost:8080/",
          "height": 449
        },
        "outputId": "4eb1786d-ec4f-4508-f1ee-191d9746ec9b"
      },
      "source": [
        "local_blockchain.add_block(block_one_transactions)\n",
        "local_blockchain.add_block(block_two_transactions)\n",
        "local_blockchain.add_block(block_three_transactions)\n",
        "\n",
        "local_blockchain.print_blocks()"
      ],
      "execution_count": 3,
      "outputs": [
        {
          "output_type": "stream",
          "text": [
            "Block 0 <block.Block object at 0x7faa69abde10>\n",
            "timestamp: 2020-07-02 06:23:27.435826\n",
            "transactions: {}\n",
            "current hash: 1a8338385c5dd08c38f99cce3598f91418c7128d807173361e4f5f49a68dcc56\n",
            "previous hash: 0\n",
            "\n",
            "Block 1 <block.Block object at 0x7faa69ad8518>\n",
            "timestamp: 2020-07-02 06:23:27.444447\n",
            "transactions: {'sender': 'Alice', 'receiver': 'Bob', 'amount': '50'}\n",
            "current hash: c60a267786d9cbeb637a253d57cae2c855ac0a66abb203c30ad825acb35dee6a\n",
            "previous hash: 1a8338385c5dd08c38f99cce3598f91418c7128d807173361e4f5f49a68dcc56\n",
            "\n",
            "Block 2 <block.Block object at 0x7faa69ad82e8>\n",
            "timestamp: 2020-07-02 06:23:27.598603\n",
            "transactions: {'sender': 'Bob', 'receiver': 'Cole', 'amount': '25'}\n",
            "current hash: 233a62c7a67f1c0ca4aa7bead16616cb59549db6830c09677bcf4903bce536b1\n",
            "previous hash: c60a267786d9cbeb637a253d57cae2c855ac0a66abb203c30ad825acb35dee6a\n",
            "\n",
            "Block 3 <block.Block object at 0x7faa69ad8400>\n",
            "timestamp: 2020-07-02 06:23:27.824744\n",
            "transactions: {'sender': 'Alice', 'receiver': 'Cole', 'amount': '35'}\n",
            "current hash: 0d6f0fe7941684728469c9d8b5cdc6b3a3017eb75668da3ea9214b2a6496ea3f\n",
            "previous hash: 233a62c7a67f1c0ca4aa7bead16616cb59549db6830c09677bcf4903bce536b1\n",
            "\n"
          ],
          "name": "stdout"
        }
      ]
    },
    {
      "cell_type": "code",
      "metadata": {
        "id": "V6wR1NQ2CaML",
        "colab_type": "code",
        "colab": {
          "base_uri": "https://localhost:8080/",
          "height": 35
        },
        "outputId": "86e7f50d-c617-469d-a77b-df019e319ea6"
      },
      "source": [
        "local_blockchain.validate_chain()"
      ],
      "execution_count": 4,
      "outputs": [
        {
          "output_type": "execute_result",
          "data": {
            "text/plain": [
              "True"
            ]
          },
          "metadata": {
            "tags": []
          },
          "execution_count": 4
        }
      ]
    },
    {
      "cell_type": "code",
      "metadata": {
        "id": "3BppWalMBDzv",
        "colab_type": "code",
        "colab": {
          "base_uri": "https://localhost:8080/",
          "height": 449
        },
        "outputId": "a97fa748-fb86-44e8-a36b-eb129c427eac"
      },
      "source": [
        "local_blockchain.chain[2].transactions = fake_transactions\n",
        "local_blockchain.print_blocks()"
      ],
      "execution_count": 5,
      "outputs": [
        {
          "output_type": "stream",
          "text": [
            "Block 0 <block.Block object at 0x7faa69abde10>\n",
            "timestamp: 2020-07-02 06:23:27.435826\n",
            "transactions: {}\n",
            "current hash: 1a8338385c5dd08c38f99cce3598f91418c7128d807173361e4f5f49a68dcc56\n",
            "previous hash: 0\n",
            "\n",
            "Block 1 <block.Block object at 0x7faa69ad8518>\n",
            "timestamp: 2020-07-02 06:23:27.444447\n",
            "transactions: {'sender': 'Alice', 'receiver': 'Bob', 'amount': '50'}\n",
            "current hash: c60a267786d9cbeb637a253d57cae2c855ac0a66abb203c30ad825acb35dee6a\n",
            "previous hash: 1a8338385c5dd08c38f99cce3598f91418c7128d807173361e4f5f49a68dcc56\n",
            "\n",
            "Block 2 <block.Block object at 0x7faa69ad82e8>\n",
            "timestamp: 2020-07-02 06:23:27.598603\n",
            "transactions: {'sender': 'Bob', 'receiver': 'Cole, Alice', 'amount': '25'}\n",
            "current hash: 95fbd57d54e74b958e6bf8b91a4dd7aed597bb22fe54d1df907849bd2cb88fa6\n",
            "previous hash: c60a267786d9cbeb637a253d57cae2c855ac0a66abb203c30ad825acb35dee6a\n",
            "\n",
            "Block 3 <block.Block object at 0x7faa69ad8400>\n",
            "timestamp: 2020-07-02 06:23:27.824744\n",
            "transactions: {'sender': 'Alice', 'receiver': 'Cole', 'amount': '35'}\n",
            "current hash: 0d6f0fe7941684728469c9d8b5cdc6b3a3017eb75668da3ea9214b2a6496ea3f\n",
            "previous hash: 233a62c7a67f1c0ca4aa7bead16616cb59549db6830c09677bcf4903bce536b1\n",
            "\n"
          ],
          "name": "stdout"
        }
      ]
    },
    {
      "cell_type": "code",
      "metadata": {
        "id": "e-cTOHgxLsiy",
        "colab_type": "code",
        "colab": {
          "base_uri": "https://localhost:8080/",
          "height": 53
        },
        "outputId": "9eb10c68-9026-404b-b7c3-1e29923223d5"
      },
      "source": [
        "local_blockchain.validate_chain()"
      ],
      "execution_count": 6,
      "outputs": [
        {
          "output_type": "stream",
          "text": [
            "The current hash of the block does not equal the generated hash of the block.\n"
          ],
          "name": "stdout"
        },
        {
          "output_type": "execute_result",
          "data": {
            "text/plain": [
              "False"
            ]
          },
          "metadata": {
            "tags": []
          },
          "execution_count": 6
        }
      ]
    }
  ]
}
